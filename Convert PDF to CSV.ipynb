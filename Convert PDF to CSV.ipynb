{
 "cells": [
  {
   "cell_type": "code",
   "execution_count": null,
   "id": "5d97c4e8",
   "metadata": {
    "scrolled": false
   },
   "outputs": [],
   "source": [
    "# ! pip install pdfplumber"
   ]
  },
  {
   "cell_type": "code",
   "execution_count": 3,
   "id": "21fbe0f7",
   "metadata": {},
   "outputs": [],
   "source": [
    "import re\n",
    "import pdfplumber\n",
    "import pandas as pd\n",
    "from collections import namedtuple"
   ]
  },
  {
   "cell_type": "code",
   "execution_count": 38,
   "id": "90920f31",
   "metadata": {},
   "outputs": [],
   "source": [
    "Line = namedtuple('Line', 'company_id company_name doctype reference currency voucher inv_date due_date open_amt_tc open_amt_bc current months1 months2 months3')"
   ]
  },
  {
   "cell_type": "code",
   "execution_count": 13,
   "id": "350bb6d0",
   "metadata": {},
   "outputs": [],
   "source": [
    "company_re = re.compile(r'(V\\d+) (.*) Phone:')# to get two elements from the line\n",
    "line_re = re.compile(r'\\d{2}/\\d{2}/\\d{4} \\d{2}/\\d{2}/\\d{4}')# two digits followed by slash, -\\\\-, four digits follow by the slash\n",
    "# looking for the pattern date and date"
   ]
  },
  {
   "cell_type": "code",
   "execution_count": 14,
   "id": "d2b8dcb0",
   "metadata": {},
   "outputs": [],
   "source": [
    "# Find this line"
   ]
  },
  {
   "cell_type": "code",
   "execution_count": 15,
   "id": "e3cbfdfb",
   "metadata": {},
   "outputs": [
    {
     "data": {
      "text/plain": [
       "'V50012'"
      ]
     },
     "execution_count": 15,
     "metadata": {},
     "output_type": "execute_result"
    }
   ],
   "source": [
    "company_re.search('V50012 Company A LTD Phone:2123232323').group(1)"
   ]
  },
  {
   "cell_type": "code",
   "execution_count": 16,
   "id": "6803359a",
   "metadata": {},
   "outputs": [
    {
     "data": {
      "text/plain": [
       "<re.Match object; span=(27, 48), match='11/03/2014 12/30/2014'>"
      ]
     },
     "execution_count": 16,
     "metadata": {},
     "output_type": "execute_result"
    }
   ],
   "source": [
    "line_re.search('478 USD BFS030OB/000000057 11/03/2014 12/30/2014 263.52 263.52 0.00 0.00 0.00 263.52')"
   ]
  },
  {
   "cell_type": "code",
   "execution_count": 17,
   "id": "73a26cb2",
   "metadata": {},
   "outputs": [],
   "source": [
    "# To split the whole line"
   ]
  },
  {
   "cell_type": "code",
   "execution_count": 18,
   "id": "5161df30",
   "metadata": {},
   "outputs": [
    {
     "data": {
      "text/plain": [
       "['478',\n",
       " 'USD',\n",
       " 'BFS030OB/000000057',\n",
       " '11/03/2014',\n",
       " '12/30/2014',\n",
       " '263.52',\n",
       " '263.52',\n",
       " '0.00',\n",
       " '0.00',\n",
       " '0.00',\n",
       " '263.52']"
      ]
     },
     "execution_count": 18,
     "metadata": {},
     "output_type": "execute_result"
    }
   ],
   "source": [
    "'478 USD BFS030OB/000000057 11/03/2014 12/30/2014 263.52 263.52 0.00 0.00 0.00 263.52'.split()"
   ]
  },
  {
   "cell_type": "code",
   "execution_count": 50,
   "id": "73b9a3d9",
   "metadata": {},
   "outputs": [],
   "source": [
    "file = 'Sample.pdf'"
   ]
  },
  {
   "cell_type": "code",
   "execution_count": 39,
   "id": "ed167e41",
   "metadata": {},
   "outputs": [],
   "source": [
    "lines = []\n",
    "total_check = 0\n",
    "\n",
    "with pdfplumber.open(file) as pdf:\n",
    "    pages = pdf.pages\n",
    "    for page in pdf.pages:\n",
    "        text = page.extract_text()\n",
    "        for line in text.split('\\n'):\n",
    "            comp = company_re.search(line)\n",
    "            if comp:\n",
    "                vend_no, vend_name = comp.group(1), comp.group(2)\n",
    "            elif line.startswith('INVOICES'):\n",
    "                doctype = 'INVOICE'\n",
    "                \n",
    "            elif line.startswith('CREDITNOTES'):\n",
    "                doctype = 'CREDITNOTE'\n",
    "                \n",
    "            elif line_re.search(line):\n",
    "                items = line.split()\n",
    "                lines.append(Line(vend_no, vend_name, doctype, *items))\n",
    "                \n",
    "            elif line.startswith('Supplier total'):\n",
    "                tot = float(line.split()[2].replace(',', ''))\n",
    "                total_check += tot"
   ]
  },
  {
   "cell_type": "markdown",
   "id": "790e0d54",
   "metadata": {},
   "source": [
    "lines[:3]"
   ]
  },
  {
   "cell_type": "code",
   "execution_count": 40,
   "id": "3fcbf0fc",
   "metadata": {},
   "outputs": [
    {
     "data": {
      "text/html": [
       "<div>\n",
       "<style scoped>\n",
       "    .dataframe tbody tr th:only-of-type {\n",
       "        vertical-align: middle;\n",
       "    }\n",
       "\n",
       "    .dataframe tbody tr th {\n",
       "        vertical-align: top;\n",
       "    }\n",
       "\n",
       "    .dataframe thead th {\n",
       "        text-align: right;\n",
       "    }\n",
       "</style>\n",
       "<table border=\"1\" class=\"dataframe\">\n",
       "  <thead>\n",
       "    <tr style=\"text-align: right;\">\n",
       "      <th></th>\n",
       "      <th>company_id</th>\n",
       "      <th>company_name</th>\n",
       "      <th>doctype</th>\n",
       "      <th>reference</th>\n",
       "      <th>currency</th>\n",
       "      <th>voucher</th>\n",
       "      <th>inv_date</th>\n",
       "      <th>due_date</th>\n",
       "      <th>open_amt_tc</th>\n",
       "      <th>open_amt_bc</th>\n",
       "      <th>current</th>\n",
       "      <th>months1</th>\n",
       "      <th>months2</th>\n",
       "      <th>months3</th>\n",
       "    </tr>\n",
       "  </thead>\n",
       "  <tbody>\n",
       "    <tr>\n",
       "      <th>0</th>\n",
       "      <td>V50012</td>\n",
       "      <td>Company A LTD</td>\n",
       "      <td>CREDITNOTE</td>\n",
       "      <td>478</td>\n",
       "      <td>USD</td>\n",
       "      <td>BFS030OB/000000057</td>\n",
       "      <td>11/03/2014</td>\n",
       "      <td>12/30/2014</td>\n",
       "      <td>263.52</td>\n",
       "      <td>263.52</td>\n",
       "      <td>0.00</td>\n",
       "      <td>0.00</td>\n",
       "      <td>0.00</td>\n",
       "      <td>263.52</td>\n",
       "    </tr>\n",
       "    <tr>\n",
       "      <th>1</th>\n",
       "      <td>V50012</td>\n",
       "      <td>CARGO SAFETRAVEL LTD</td>\n",
       "      <td>INVOICE</td>\n",
       "      <td>J1062628/1</td>\n",
       "      <td>USD</td>\n",
       "      <td>BFS026/000001137</td>\n",
       "      <td>03/30/2019</td>\n",
       "      <td>03/30/2019</td>\n",
       "      <td>-102.00</td>\n",
       "      <td>-102.00</td>\n",
       "      <td>0.00</td>\n",
       "      <td>-102.00</td>\n",
       "      <td>0.00</td>\n",
       "      <td>0.00</td>\n",
       "    </tr>\n",
       "    <tr>\n",
       "      <th>2</th>\n",
       "      <td>V50012</td>\n",
       "      <td>CARGO SAFETRAVEL LTD</td>\n",
       "      <td>INVOICE</td>\n",
       "      <td>J1062638/1</td>\n",
       "      <td>USD</td>\n",
       "      <td>BFS026/000001136</td>\n",
       "      <td>02/28/2019</td>\n",
       "      <td>03/15/2019</td>\n",
       "      <td>-204.00</td>\n",
       "      <td>-204.00</td>\n",
       "      <td>0.00</td>\n",
       "      <td>-204.00</td>\n",
       "      <td>0.00</td>\n",
       "      <td>0.00</td>\n",
       "    </tr>\n",
       "    <tr>\n",
       "      <th>3</th>\n",
       "      <td>V50014</td>\n",
       "      <td>ChaseB REGISTER USDA</td>\n",
       "      <td>INVOICE</td>\n",
       "      <td>110-135633</td>\n",
       "      <td>USD</td>\n",
       "      <td>BFS026/000001064</td>\n",
       "      <td>02/05/2019</td>\n",
       "      <td>04/29/2019</td>\n",
       "      <td>-4,665.00</td>\n",
       "      <td>-4,665.00</td>\n",
       "      <td>-4,665.00</td>\n",
       "      <td>0.00</td>\n",
       "      <td>0.00</td>\n",
       "      <td>0.00</td>\n",
       "    </tr>\n",
       "    <tr>\n",
       "      <th>4</th>\n",
       "      <td>V50015</td>\n",
       "      <td>METALS CHEMICALS GROUP LIMITED</td>\n",
       "      <td>INVOICE</td>\n",
       "      <td>SI191433</td>\n",
       "      <td>USD</td>\n",
       "      <td>BFS026/000000908</td>\n",
       "      <td>02/12/2019</td>\n",
       "      <td>03/30/2019</td>\n",
       "      <td>-198.00</td>\n",
       "      <td>-198.00</td>\n",
       "      <td>0.00</td>\n",
       "      <td>-198.00</td>\n",
       "      <td>0.00</td>\n",
       "      <td>0.00</td>\n",
       "    </tr>\n",
       "  </tbody>\n",
       "</table>\n",
       "</div>"
      ],
      "text/plain": [
       "  company_id                    company_name     doctype   reference currency  \\\n",
       "0     V50012                   Company A LTD  CREDITNOTE         478      USD   \n",
       "1     V50012            CARGO SAFETRAVEL LTD     INVOICE  J1062628/1      USD   \n",
       "2     V50012            CARGO SAFETRAVEL LTD     INVOICE  J1062638/1      USD   \n",
       "3     V50014            ChaseB REGISTER USDA     INVOICE  110-135633      USD   \n",
       "4     V50015  METALS CHEMICALS GROUP LIMITED     INVOICE    SI191433      USD   \n",
       "\n",
       "              voucher    inv_date    due_date open_amt_tc open_amt_bc  \\\n",
       "0  BFS030OB/000000057  11/03/2014  12/30/2014      263.52      263.52   \n",
       "1    BFS026/000001137  03/30/2019  03/30/2019     -102.00     -102.00   \n",
       "2    BFS026/000001136  02/28/2019  03/15/2019     -204.00     -204.00   \n",
       "3    BFS026/000001064  02/05/2019  04/29/2019   -4,665.00   -4,665.00   \n",
       "4    BFS026/000000908  02/12/2019  03/30/2019     -198.00     -198.00   \n",
       "\n",
       "     current  months1 months2 months3  \n",
       "0       0.00     0.00    0.00  263.52  \n",
       "1       0.00  -102.00    0.00    0.00  \n",
       "2       0.00  -204.00    0.00    0.00  \n",
       "3  -4,665.00     0.00    0.00    0.00  \n",
       "4       0.00  -198.00    0.00    0.00  "
      ]
     },
     "execution_count": 40,
     "metadata": {},
     "output_type": "execute_result"
    }
   ],
   "source": [
    "df = pd.DataFrame(lines)\n",
    "df.head()"
   ]
  },
  {
   "cell_type": "code",
   "execution_count": 47,
   "id": "95edde71",
   "metadata": {},
   "outputs": [
    {
     "name": "stdout",
     "output_type": "stream",
     "text": [
      "<class 'pandas.core.frame.DataFrame'>\n",
      "RangeIndex: 131 entries, 0 to 130\n",
      "Data columns (total 14 columns):\n",
      " #   Column        Non-Null Count  Dtype         \n",
      "---  ------        --------------  -----         \n",
      " 0   company_id    131 non-null    object        \n",
      " 1   company_name  131 non-null    object        \n",
      " 2   doctype       131 non-null    object        \n",
      " 3   reference     131 non-null    object        \n",
      " 4   currency      131 non-null    object        \n",
      " 5   voucher       131 non-null    object        \n",
      " 6   inv_date      131 non-null    datetime64[ns]\n",
      " 7   due_date      131 non-null    datetime64[ns]\n",
      " 8   open_amt_tc   131 non-null    float64       \n",
      " 9   open_amt_bc   131 non-null    float64       \n",
      " 10  current       131 non-null    float64       \n",
      " 11  months1       131 non-null    float64       \n",
      " 12  months2       131 non-null    float64       \n",
      " 13  months3       131 non-null    float64       \n",
      "dtypes: datetime64[ns](2), float64(6), object(6)\n",
      "memory usage: 14.5+ KB\n"
     ]
    }
   ],
   "source": [
    "df.info()"
   ]
  },
  {
   "cell_type": "code",
   "execution_count": 42,
   "id": "3bdfc631",
   "metadata": {},
   "outputs": [],
   "source": [
    "df['inv_date'] = pd.to_datetime(df['inv_date'])\n",
    "df['due_date'] = pd.to_datetime(df['inv_date'])"
   ]
  },
  {
   "cell_type": "code",
   "execution_count": null,
   "id": "f4e8faed",
   "metadata": {},
   "outputs": [],
   "source": [
    "# convert the amounts in last six col"
   ]
  },
  {
   "cell_type": "code",
   "execution_count": 46,
   "id": "03d59b01",
   "metadata": {},
   "outputs": [],
   "source": [
    "for col in df.columns[-6:]:\n",
    "    df[col] = df[col].map(lambda x: float(str(x).replace(',', '')))"
   ]
  },
  {
   "cell_type": "code",
   "execution_count": 45,
   "id": "0606cbc5",
   "metadata": {},
   "outputs": [
    {
     "data": {
      "text/plain": [
       "-129580.73999999999"
      ]
     },
     "execution_count": 45,
     "metadata": {},
     "output_type": "execute_result"
    }
   ],
   "source": [
    "df['open_amt_bc'].sum()"
   ]
  },
  {
   "cell_type": "code",
   "execution_count": 48,
   "id": "33feb13c",
   "metadata": {},
   "outputs": [
    {
     "data": {
      "text/plain": [
       "-129580.73999999999"
      ]
     },
     "execution_count": 48,
     "metadata": {},
     "output_type": "execute_result"
    }
   ],
   "source": [
    "total_check"
   ]
  },
  {
   "cell_type": "code",
   "execution_count": 49,
   "id": "a4744277",
   "metadata": {},
   "outputs": [],
   "source": [
    "df.to_csv('invoices.csv', index=False)"
   ]
  },
  {
   "cell_type": "code",
   "execution_count": null,
   "id": "04d755dc",
   "metadata": {},
   "outputs": [],
   "source": []
  }
 ],
 "metadata": {
  "kernelspec": {
   "display_name": "Python 3 (ipykernel)",
   "language": "python",
   "name": "python3"
  },
  "language_info": {
   "codemirror_mode": {
    "name": "ipython",
    "version": 3
   },
   "file_extension": ".py",
   "mimetype": "text/x-python",
   "name": "python",
   "nbconvert_exporter": "python",
   "pygments_lexer": "ipython3",
   "version": "3.9.12"
  }
 },
 "nbformat": 4,
 "nbformat_minor": 5
}
