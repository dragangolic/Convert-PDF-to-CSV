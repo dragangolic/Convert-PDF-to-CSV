{
 "cells": [
  {
   "cell_type": "code",
   "execution_count": null,
   "id": "5d97c4e8",
   "metadata": {
    "scrolled": false
   },
   "outputs": [],
   "source": [
    "# ! pip install pdfplumber"
   ]
  },
  {
   "cell_type": "code",
   "execution_count": 4,
   "id": "21fbe0f7",
   "metadata": {},
   "outputs": [],
   "source": [
    "import re\n",
    "import pdfplumber\n",
    "import pandas as pd\n",
    "from collections import namedtuple"
   ]
  },
  {
   "cell_type": "code",
   "execution_count": 6,
   "id": "90920f31",
   "metadata": {},
   "outputs": [],
   "source": [
    "line = namedtuple('Line', 'company_id company_name doctype reference currency voucher inv_date due_date open_amt_bc current months1 months2 months3')"
   ]
  },
  {
   "cell_type": "code",
   "execution_count": 11,
   "id": "350bb6d0",
   "metadata": {},
   "outputs": [],
   "source": [
    "company_re = re.compile(r'(V\\d+) (.*) Phone:')# to get two elements from the line\n",
    "line_re = re.compile(r'\\d{2}/\\d{2}/\\d{4} \\d{2}/\\d{2}/\\d{4}')# two digits followed by slash, -\\\\-, four digits follow by the slash\n",
    "# looking for the pattern date and date"
   ]
  },
  {
   "cell_type": "code",
   "execution_count": 10,
   "id": "e3cbfdfb",
   "metadata": {},
   "outputs": [
    {
     "data": {
      "text/plain": [
       "'V50012'"
      ]
     },
     "execution_count": 10,
     "metadata": {},
     "output_type": "execute_result"
    }
   ],
   "source": [
    "company_re.search('V50012 Company A LTD Phone:2123232323').group(1)"
   ]
  },
  {
   "cell_type": "code",
   "execution_count": 8,
   "id": "73b9a3d9",
   "metadata": {},
   "outputs": [],
   "source": [
    "file = 'Sample Report Pythonic.pdf'"
   ]
  },
  {
   "cell_type": "code",
   "execution_count": null,
   "id": "f4326246",
   "metadata": {},
   "outputs": [],
   "source": []
  },
  {
   "cell_type": "code",
   "execution_count": null,
   "id": "ed167e41",
   "metadata": {},
   "outputs": [],
   "source": [
    "lines = []\n",
    "total_check = 0\n",
    "\n",
    "with pdfplumber.open(file) as pdf:\n",
    "    pages = pdf.pages\n",
    "    for page in pdf.pages:\n",
    "        text = page.extract_text()\n",
    "        for line in text.split('\\n'):\n",
    "            comp = company_re.search(line)\n",
    "            if comp:\n",
    "                vend_no, vend_name = comp.group(1), comp.group(2)\n",
    "            elif line.startswith('INVOICES'):\n",
    "                doctype = 'INVOICE'\n",
    "                \n",
    "            elif line.startswith('CREDITNOTES')"
   ]
  },
  {
   "cell_type": "code",
   "execution_count": null,
   "id": "0937830b",
   "metadata": {},
   "outputs": [],
   "source": []
  },
  {
   "cell_type": "code",
   "execution_count": null,
   "id": "3fcbf0fc",
   "metadata": {},
   "outputs": [],
   "source": []
  },
  {
   "cell_type": "code",
   "execution_count": null,
   "id": "95edde71",
   "metadata": {},
   "outputs": [],
   "source": []
  },
  {
   "cell_type": "code",
   "execution_count": null,
   "id": "3bdfc631",
   "metadata": {},
   "outputs": [],
   "source": []
  },
  {
   "cell_type": "code",
   "execution_count": null,
   "id": "f4e8faed",
   "metadata": {},
   "outputs": [],
   "source": []
  },
  {
   "cell_type": "code",
   "execution_count": null,
   "id": "03d59b01",
   "metadata": {},
   "outputs": [],
   "source": []
  },
  {
   "cell_type": "code",
   "execution_count": null,
   "id": "0606cbc5",
   "metadata": {},
   "outputs": [],
   "source": []
  },
  {
   "cell_type": "code",
   "execution_count": null,
   "id": "33feb13c",
   "metadata": {},
   "outputs": [],
   "source": []
  }
 ],
 "metadata": {
  "kernelspec": {
   "display_name": "Python 3 (ipykernel)",
   "language": "python",
   "name": "python3"
  },
  "language_info": {
   "codemirror_mode": {
    "name": "ipython",
    "version": 3
   },
   "file_extension": ".py",
   "mimetype": "text/x-python",
   "name": "python",
   "nbconvert_exporter": "python",
   "pygments_lexer": "ipython3",
   "version": "3.9.12"
  }
 },
 "nbformat": 4,
 "nbformat_minor": 5
}
